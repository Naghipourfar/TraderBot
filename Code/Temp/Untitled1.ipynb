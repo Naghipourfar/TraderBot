{
 "cells": [
  {
   "cell_type": "code",
   "execution_count": 157,
   "metadata": {},
   "outputs": [],
   "source": [
    "from pandas_datareader import data\n",
    "import matplotlib.pyplot as plt\n",
    "import pandas as pd\n",
    "import datetime as dt\n",
    "import urllib.request, json\n",
    "import os\n",
    "import numpy as np\n",
    "import requests\n",
    "import tensorflow as tf \n",
    "import time\n",
    "from sklearn.preprocessing import MinMaxScaler, normalize\n",
    "\n",
    "from keras.models import Sequential\n",
    "from keras.layers import LSTM, Dropout, Activation, Dense"
   ]
  },
  {
   "cell_type": "code",
   "execution_count": null,
   "metadata": {},
   "outputs": [],
   "source": []
  },
  {
   "cell_type": "code",
   "execution_count": 163,
   "metadata": {},
   "outputs": [
    {
     "data": {
      "text/html": [
       "<div>\n",
       "<style scoped>\n",
       "    .dataframe tbody tr th:only-of-type {\n",
       "        vertical-align: middle;\n",
       "    }\n",
       "\n",
       "    .dataframe tbody tr th {\n",
       "        vertical-align: top;\n",
       "    }\n",
       "\n",
       "    .dataframe thead th {\n",
       "        text-align: right;\n",
       "    }\n",
       "</style>\n",
       "<table border=\"1\" class=\"dataframe\">\n",
       "  <thead>\n",
       "    <tr style=\"text-align: right;\">\n",
       "      <th></th>\n",
       "      <th>close</th>\n",
       "      <th>high</th>\n",
       "      <th>low</th>\n",
       "      <th>open</th>\n",
       "      <th>volumefrom</th>\n",
       "      <th>volumeto</th>\n",
       "    </tr>\n",
       "    <tr>\n",
       "      <th>time</th>\n",
       "      <th></th>\n",
       "      <th></th>\n",
       "      <th></th>\n",
       "      <th></th>\n",
       "      <th></th>\n",
       "      <th></th>\n",
       "    </tr>\n",
       "  </thead>\n",
       "  <tbody>\n",
       "    <tr>\n",
       "      <th>2018-07-20</th>\n",
       "      <td>7333.93</td>\n",
       "      <td>7676.55</td>\n",
       "      <td>7279.34</td>\n",
       "      <td>7477.10</td>\n",
       "      <td>80874.93</td>\n",
       "      <td>6.030344e+08</td>\n",
       "    </tr>\n",
       "    <tr>\n",
       "      <th>2018-07-21</th>\n",
       "      <td>7405.40</td>\n",
       "      <td>7453.07</td>\n",
       "      <td>7220.37</td>\n",
       "      <td>7333.93</td>\n",
       "      <td>40295.77</td>\n",
       "      <td>2.974404e+08</td>\n",
       "    </tr>\n",
       "    <tr>\n",
       "      <th>2018-07-22</th>\n",
       "      <td>7398.64</td>\n",
       "      <td>7569.28</td>\n",
       "      <td>7345.25</td>\n",
       "      <td>7405.40</td>\n",
       "      <td>47479.76</td>\n",
       "      <td>3.555653e+08</td>\n",
       "    </tr>\n",
       "    <tr>\n",
       "      <th>2018-07-23</th>\n",
       "      <td>7718.00</td>\n",
       "      <td>7798.59</td>\n",
       "      <td>7376.66</td>\n",
       "      <td>7398.64</td>\n",
       "      <td>96722.04</td>\n",
       "      <td>7.455333e+08</td>\n",
       "    </tr>\n",
       "    <tr>\n",
       "      <th>2018-07-24</th>\n",
       "      <td>8136.08</td>\n",
       "      <td>8136.08</td>\n",
       "      <td>7692.16</td>\n",
       "      <td>7718.00</td>\n",
       "      <td>57760.53</td>\n",
       "      <td>4.577789e+08</td>\n",
       "    </tr>\n",
       "  </tbody>\n",
       "</table>\n",
       "</div>"
      ],
      "text/plain": [
       "              close     high      low     open  volumefrom      volumeto\n",
       "time                                                                    \n",
       "2018-07-20  7333.93  7676.55  7279.34  7477.10    80874.93  6.030344e+08\n",
       "2018-07-21  7405.40  7453.07  7220.37  7333.93    40295.77  2.974404e+08\n",
       "2018-07-22  7398.64  7569.28  7345.25  7405.40    47479.76  3.555653e+08\n",
       "2018-07-23  7718.00  7798.59  7376.66  7398.64    96722.04  7.455333e+08\n",
       "2018-07-24  8136.08  8136.08  7692.16  7718.00    57760.53  4.577789e+08"
      ]
     },
     "execution_count": 163,
     "metadata": {},
     "output_type": "execute_result"
    }
   ],
   "source": [
    "coin = 'BTC'\n",
    "endpoint = 'https://min-api.cryptocompare.com/data/histoday'\n",
    "res = requests.get(endpoint + '?fsym='+coin+'&tsym=USD&limit=2000')\n",
    "data = pd.DataFrame(json.loads(res.content)['Data'])\n",
    "data = data.set_index('time')\n",
    "data.index = pd.to_datetime(data.index, unit='s')\n",
    "data.tail()"
   ]
  },
  {
   "cell_type": "code",
   "execution_count": 164,
   "metadata": {},
   "outputs": [
    {
     "data": {
      "text/html": [
       "<div>\n",
       "<style scoped>\n",
       "    .dataframe tbody tr th:only-of-type {\n",
       "        vertical-align: middle;\n",
       "    }\n",
       "\n",
       "    .dataframe tbody tr th {\n",
       "        vertical-align: top;\n",
       "    }\n",
       "\n",
       "    .dataframe thead th {\n",
       "        text-align: right;\n",
       "    }\n",
       "</style>\n",
       "<table border=\"1\" class=\"dataframe\">\n",
       "  <thead>\n",
       "    <tr style=\"text-align: right;\">\n",
       "      <th></th>\n",
       "      <th>time</th>\n",
       "      <th>close</th>\n",
       "      <th>high</th>\n",
       "      <th>low</th>\n",
       "      <th>open</th>\n",
       "      <th>volumefrom</th>\n",
       "      <th>volumeto</th>\n",
       "    </tr>\n",
       "    <tr>\n",
       "      <th>time</th>\n",
       "      <th></th>\n",
       "      <th></th>\n",
       "      <th></th>\n",
       "      <th></th>\n",
       "      <th></th>\n",
       "      <th></th>\n",
       "      <th></th>\n",
       "    </tr>\n",
       "  </thead>\n",
       "  <tbody>\n",
       "    <tr>\n",
       "      <th>2013-01-31</th>\n",
       "      <td>2013-01-31</td>\n",
       "      <td>20.41</td>\n",
       "      <td>21.43</td>\n",
       "      <td>19.51</td>\n",
       "      <td>19.70</td>\n",
       "      <td>99226.70</td>\n",
       "      <td>2042238.64</td>\n",
       "    </tr>\n",
       "    <tr>\n",
       "      <th>2013-02-01</th>\n",
       "      <td>2013-02-01</td>\n",
       "      <td>20.50</td>\n",
       "      <td>21.13</td>\n",
       "      <td>20.30</td>\n",
       "      <td>20.41</td>\n",
       "      <td>49917.48</td>\n",
       "      <td>1034619.16</td>\n",
       "    </tr>\n",
       "    <tr>\n",
       "      <th>2013-02-02</th>\n",
       "      <td>2013-02-02</td>\n",
       "      <td>19.63</td>\n",
       "      <td>20.50</td>\n",
       "      <td>18.00</td>\n",
       "      <td>20.50</td>\n",
       "      <td>80501.65</td>\n",
       "      <td>1567325.27</td>\n",
       "    </tr>\n",
       "    <tr>\n",
       "      <th>2013-02-03</th>\n",
       "      <td>2013-02-03</td>\n",
       "      <td>20.59</td>\n",
       "      <td>20.90</td>\n",
       "      <td>19.42</td>\n",
       "      <td>19.63</td>\n",
       "      <td>34244.30</td>\n",
       "      <td>693849.61</td>\n",
       "    </tr>\n",
       "    <tr>\n",
       "      <th>2013-02-04</th>\n",
       "      <td>2013-02-04</td>\n",
       "      <td>20.43</td>\n",
       "      <td>21.05</td>\n",
       "      <td>19.86</td>\n",
       "      <td>20.59</td>\n",
       "      <td>52219.14</td>\n",
       "      <td>1066570.21</td>\n",
       "    </tr>\n",
       "  </tbody>\n",
       "</table>\n",
       "</div>"
      ],
      "text/plain": [
       "                 time  close   high    low   open  volumefrom    volumeto\n",
       "time                                                                     \n",
       "2013-01-31 2013-01-31  20.41  21.43  19.51  19.70    99226.70  2042238.64\n",
       "2013-02-01 2013-02-01  20.50  21.13  20.30  20.41    49917.48  1034619.16\n",
       "2013-02-02 2013-02-02  19.63  20.50  18.00  20.50    80501.65  1567325.27\n",
       "2013-02-03 2013-02-03  20.59  20.90  19.42  19.63    34244.30   693849.61\n",
       "2013-02-04 2013-02-04  20.43  21.05  19.86  20.59    52219.14  1066570.21"
      ]
     },
     "execution_count": 164,
     "metadata": {},
     "output_type": "execute_result"
    }
   ],
   "source": [
    "# plt.figure(figsize = (18,9))\n",
    "# plt.plot(range(data.shape[0]),(data['low']+data['high'])/2.0)\n",
    "# plt.xticks(range(0,data.shape[0],500),df['time'].loc[::500],rotation=45)\n",
    "# plt.xlabel('Date',fontsize=18)\n",
    "# plt.ylabel('Mid Price',fontsize=18)\n",
    "# plt.show()\n",
    "data.to_csv('./data.csv', index_label=False, header=None, columns=['open', 'high', 'low', 'volumefrom', 'volumeto', 'close'])\n",
    "data['time'] = data.index\n",
    "cols = data.columns\n",
    "cols = list(cols)\n",
    "cols = cols[-1:] + cols[:-1]\n",
    "data = data[cols]\n",
    "data.head()"
   ]
  },
  {
   "cell_type": "code",
   "execution_count": 208,
   "metadata": {},
   "outputs": [],
   "source": [
    "df = pd.read_csv('./data.csv', header=None)[[i for i in range(1, 7)]]\n",
    "x_data = df[[1, 2, 3, 4, 5]]\n",
    "y_data = df[[6]]"
   ]
  },
  {
   "cell_type": "code",
   "execution_count": 211,
   "metadata": {},
   "outputs": [],
   "source": [
    "def load_data_tmp(x_data, y_dataseq_len, normalise_window):\n",
    "    sequence_length = seq_len + 1\n",
    "    result = []\n",
    "\n",
    "    for index in range(x_data.shape[0] - sequence_length):\n",
    "        for l in list(x_data.iloc[index: index + sequence_length].values.tolist()):\n",
    "            result.append(l)\n",
    "\n",
    "    if normalise_window:\n",
    "        result = normalise_windows(result)\n",
    "\n",
    "    result = np.array(result)\n",
    "\n",
    "    print(result.shape)\n",
    "\n",
    "    row = round(0.9 * result.shape[0]) - 5\n",
    "    train = result[:int(row), :]\n",
    "    np.random.shuffle(train)\n",
    "    x_train = train[:, :-1]\n",
    "    y_train = train[:, -1]\n",
    "    x_test = result[int(row):, :-1]\n",
    "    y_test = result[int(row):, -1]\n",
    "\n",
    "    x_train = np.reshape(x_train, (x_train.shape[0], x_train.shape[1], 1))\n",
    "    x_test = np.reshape(x_test, (x_test.shape[0], x_test.shape[1], 1))\n",
    "\n",
    "    return [x_train, y_train, x_test, y_test]"
   ]
  },
  {
   "cell_type": "code",
   "execution_count": 214,
   "metadata": {},
   "outputs": [
    {
     "data": {
      "text/plain": [
       "(2001, 7)"
      ]
     },
     "execution_count": 214,
     "metadata": {},
     "output_type": "execute_result"
    }
   ],
   "source": []
  },
  {
   "cell_type": "code",
   "execution_count": 218,
   "metadata": {},
   "outputs": [
    {
     "data": {
      "text/plain": [
       "(2001, 6)"
      ]
     },
     "execution_count": 218,
     "metadata": {},
     "output_type": "execute_result"
    }
   ],
   "source": [
    "# Now perform exponential moving average smoothing\n",
    "# So the data will have a smoother curve than the original ragged data\n",
    "EMA = 0.0\n",
    "gamma = 0.1\n",
    "for ti in range(training_data.shape[0]):\n",
    "  EMA = gamma*training_data[ti] + (1-gamma)*EMA\n",
    "  training_data[ti] = EMA\n",
    "\n",
    "# Used for visualization and test purposes\n",
    "all_mid_data = np.concatenate([training_data,test_data],axis=0)\n"
   ]
  },
  {
   "cell_type": "code",
   "execution_count": null,
   "metadata": {},
   "outputs": [],
   "source": []
  },
  {
   "cell_type": "code",
   "execution_count": 220,
   "metadata": {},
   "outputs": [
    {
     "data": {
      "text/plain": [
       "<Figure size 1296x648 with 0 Axes>"
      ]
     },
     "metadata": {},
     "output_type": "display_data"
    },
    {
     "data": {
      "image/png": "[encoded data removed]",
      "text/plain": [
       "<Figure size 1296x648 with 1 Axes>"
      ]
     },
     "metadata": {},
     "output_type": "display_data"
    }
   ],
   "source": [
    "plt.figure(figsize = (18,9))\n",
    "plt.plot(range(data.shape[0]), data['close'])\n",
    "plt.xticks(range(0, data.shape[0], 90), data['time'].loc[::90], rotation=90)\n",
    "plt.xlabel('Date', fontsize=18)\n",
    "plt.ylabel('Mid Price', fontsize=18)\n",
    "plt.show()"
   ]
  },
  {
   "cell_type": "code",
   "execution_count": 114,
   "metadata": {},
   "outputs": [
    {
     "data": {
      "text/plain": [
       "(1500, 6)"
      ]
     },
     "execution_count": 114,
     "metadata": {},
     "output_type": "execute_result"
    }
   ],
   "source": [
    "close = data['close']\n",
    "training_data = data.iloc[:1500, 1:].as_matrix()\n",
    "# y_train = data.iloc[:1500, -1].as_matrix()\n",
    "test_data = data.iloc[1500:, 1:].as_matrix()\n",
    "training_data.shape"
   ]
  },
  {
   "cell_type": "code",
   "execution_count": 115,
   "metadata": {},
   "outputs": [
    {
     "data": {
      "text/plain": [
       "(9000, 1)"
      ]
     },
     "execution_count": 115,
     "metadata": {},
     "output_type": "execute_result"
    }
   ],
   "source": [
    "scaler = MinMaxScaler()\n",
    "training_data = training_data.reshape(-1, 1)\n",
    "test_data = test_data.reshape(-1, 1)\n",
    "training_data.shape"
   ]
  },
  {
   "cell_type": "code",
   "execution_count": 116,
   "metadata": {},
   "outputs": [
    {
     "data": {
      "text/plain": [
       "(1500, 6)"
      ]
     },
     "execution_count": 116,
     "metadata": {},
     "output_type": "execute_result"
    }
   ],
   "source": [
    "window_size = 500\n",
    "for start in range(0, 1500, window_size):\n",
    "    scaler.fit(training_data[start:start+window_size])\n",
    "    training_data[start:start+window_size] = scaler.transform(training_data[start:start+window_size])\n",
    "training_data = training_data.reshape(-1, 6)\n",
    "test_data = scaler.transform(test_data).reshape(-1, 6)\n",
    "training_data.shape"
   ]
  },
  {
   "cell_type": "code",
   "execution_count": 118,
   "metadata": {},
   "outputs": [
    {
     "data": {
      "text/plain": [
       "(2001, 6)"
      ]
     },
     "execution_count": 118,
     "metadata": {},
     "output_type": "execute_result"
    }
   ],
   "source": [
    "EMA = 0.0\n",
    "gamma = 0.1\n",
    "\n",
    "for i in range(1500):\n",
    "    EMA = gamma*training_data[i] + (1-gamma)*EMA\n",
    "    training_data[i] = EMA\n",
    "    \n",
    "all_data = np.concatenate([training_data, test_data], axis=0)\n",
    "all_data.shape"
   ]
  },
  {
   "cell_type": "code",
   "execution_count": 143,
   "metadata": {},
   "outputs": [],
   "source": [
    "def create_model(layers):\n",
    "    model = Sequential()\n",
    "\n",
    "    model.add(LSTM(\n",
    "        input_shape=(layers[1], layers[0]),\n",
    "        units=layers[1],\n",
    "        return_sequences=True))\n",
    "    model.add(Dropout(0.2))\n",
    "\n",
    "    model.add(LSTM(\n",
    "        layers[2],\n",
    "        return_sequences=False))\n",
    "    model.add(Dropout(0.2))\n",
    "\n",
    "    model.add(Dense(\n",
    "        units=layers[3]))\n",
    "    model.add(Activation(\"linear\"))\n",
    "\n",
    "    start = time.time()\n",
    "    model.compile(loss=\"mse\", optimizer=\"adam\")\n",
    "    print(\"> Compilation Time : \", time.time() - start)\n",
    "    return model\n",
    "\n",
    "def predict_point_by_point(model, data):\n",
    "    #Predict each timestep given the last sequence of true data, in effect only predicting 1 step ahead each time\n",
    "    predicted = model.predict(data)\n",
    "    predicted = np.reshape(predicted, (predicted.size,))\n",
    "    return predicted\n",
    "\n",
    "def predict_sequence_full(model, data, window_size):\n",
    "    #Shift the window by 1 new prediction each time, re-run predictions on new window\n",
    "    curr_frame = data[0]\n",
    "    predicted = []\n",
    "    for i in range(len(data)):\n",
    "        predicted.append(model.predict(curr_frame[newaxis,:,:])[0,0])\n",
    "        curr_frame = curr_frame[1:]\n",
    "        curr_frame = np.insert(curr_frame, [window_size-1], predicted[-1], axis=0)\n",
    "    return predicted\n",
    "\n",
    "def predict_sequences_multiple(model, data, window_size, prediction_len):\n",
    "    #Predict sequence of 50 steps before shifting prediction run forward by 50 steps\n",
    "    prediction_seqs = []\n",
    "    for i in range(int(len(data)/prediction_len)):\n",
    "        curr_frame = data[i*prediction_len]\n",
    "        predicted = []\n",
    "        for j in range(prediction_len):\n",
    "            predicted.append(model.predict(curr_frame[newaxis,:,:])[0,0])\n",
    "            curr_frame = curr_frame[1:]\n",
    "            curr_frame = np.insert(curr_frame, [window_size-1], predicted[-1], axis=0)\n",
    "        prediction_seqs.append(predicted)\n",
    "    return prediction_seqs\n"
   ]
  },
  {
   "cell_type": "code",
   "execution_count": 121,
   "metadata": {},
   "outputs": [],
   "source": [
    "x_train, y_train = training_data[:, :-1], training_data[:, -1]\n",
    "x_test, y_test = test_data[:, :-1], test_data[:, -1]"
   ]
  },
  {
   "cell_type": "code",
   "execution_count": 144,
   "metadata": {},
   "outputs": [
    {
     "name": "stdout",
     "output_type": "stream",
     "text": [
      "> Compilation Time :  0.020618915557861328\n"
     ]
    }
   ],
   "source": [
    "model = create_model([1, 5, 100, 1])"
   ]
  },
  {
   "cell_type": "code",
   "execution_count": 141,
   "metadata": {},
   "outputs": [
    {
     "data": {
      "text/plain": [
       "(1500, 5, 1)"
      ]
     },
     "execution_count": 141,
     "metadata": {},
     "output_type": "execute_result"
    }
   ],
   "source": [
    "x_train = np.reshape(x_train, (x_train.shape[0], x_train.shape[1], 1))\n",
    "x_test = np.reshape(x_test, (x_test.shape[0], x_test.shape[1], 1))\n",
    "x_train.shape"
   ]
  },
  {
   "cell_type": "code",
   "execution_count": 146,
   "metadata": {},
   "outputs": [
    {
     "name": "stdout",
     "output_type": "stream",
     "text": [
      "Train on 1425 samples, validate on 75 samples\n",
      "Epoch 1/5\n",
      " - 0s - loss: 447522554144726.2500 - val_loss: 2861373784588288.0000\n",
      "Epoch 2/5\n",
      " - 0s - loss: 447522496195633.6250 - val_loss: 2861373516152832.0000\n",
      "Epoch 3/5\n",
      " - 0s - loss: 447522439470983.2500 - val_loss: 2861373516152832.0000\n",
      "Epoch 4/5\n",
      " - 0s - loss: 447522384229792.0625 - val_loss: 2861373516152832.0000\n",
      "Epoch 5/5\n",
      " - 0s - loss: 447522345636308.5000 - val_loss: 2861372979281920.0000\n"
     ]
    },
    {
     "data": {
      "text/plain": [
       "<keras.callbacks.History at 0x1218f7588>"
      ]
     },
     "execution_count": 146,
     "metadata": {},
     "output_type": "execute_result"
    }
   ],
   "source": [
    "model.fit(x=x_train,\n",
    "          y=y_train,\n",
    "         batch_size=128,\n",
    "         epochs=5,\n",
    "         validation_split=0.05,\n",
    "         verbose=2)"
   ]
  },
  {
   "cell_type": "code",
   "execution_count": null,
   "metadata": {},
   "outputs": [],
   "source": [
    "predictions = predict_sequences_multiple(model, x_test, seq_len, 50)"
   ]
  },
  {
   "cell_type": "code",
   "execution_count": 225,
   "metadata": {},
   "outputs": [
    {
     "data": {
      "text/html": [
       "<div>\n",
       "<style scoped>\n",
       "    .dataframe tbody tr th:only-of-type {\n",
       "        vertical-align: middle;\n",
       "    }\n",
       "\n",
       "    .dataframe tbody tr th {\n",
       "        vertical-align: top;\n",
       "    }\n",
       "\n",
       "    .dataframe thead th {\n",
       "        text-align: right;\n",
       "    }\n",
       "</style>\n",
       "<table border=\"1\" class=\"dataframe\">\n",
       "  <thead>\n",
       "    <tr style=\"text-align: right;\">\n",
       "      <th></th>\n",
       "      <th>Month</th>\n",
       "      <th>Sales of shampoo over a three year period</th>\n",
       "    </tr>\n",
       "  </thead>\n",
       "  <tbody>\n",
       "    <tr>\n",
       "      <th>0</th>\n",
       "      <td>1-01</td>\n",
       "      <td>266.0</td>\n",
       "    </tr>\n",
       "    <tr>\n",
       "      <th>1</th>\n",
       "      <td>1-02</td>\n",
       "      <td>145.9</td>\n",
       "    </tr>\n",
       "    <tr>\n",
       "      <th>2</th>\n",
       "      <td>1-03</td>\n",
       "      <td>183.1</td>\n",
       "    </tr>\n",
       "    <tr>\n",
       "      <th>3</th>\n",
       "      <td>1-04</td>\n",
       "      <td>119.3</td>\n",
       "    </tr>\n",
       "    <tr>\n",
       "      <th>4</th>\n",
       "      <td>1-05</td>\n",
       "      <td>180.3</td>\n",
       "    </tr>\n",
       "    <tr>\n",
       "      <th>5</th>\n",
       "      <td>1-06</td>\n",
       "      <td>168.5</td>\n",
       "    </tr>\n",
       "    <tr>\n",
       "      <th>6</th>\n",
       "      <td>1-07</td>\n",
       "      <td>231.8</td>\n",
       "    </tr>\n",
       "    <tr>\n",
       "      <th>7</th>\n",
       "      <td>1-08</td>\n",
       "      <td>224.5</td>\n",
       "    </tr>\n",
       "    <tr>\n",
       "      <th>8</th>\n",
       "      <td>1-09</td>\n",
       "      <td>192.8</td>\n",
       "    </tr>\n",
       "    <tr>\n",
       "      <th>9</th>\n",
       "      <td>1-10</td>\n",
       "      <td>122.9</td>\n",
       "    </tr>\n",
       "    <tr>\n",
       "      <th>10</th>\n",
       "      <td>1-11</td>\n",
       "      <td>336.5</td>\n",
       "    </tr>\n",
       "    <tr>\n",
       "      <th>11</th>\n",
       "      <td>1-12</td>\n",
       "      <td>185.9</td>\n",
       "    </tr>\n",
       "    <tr>\n",
       "      <th>12</th>\n",
       "      <td>2-01</td>\n",
       "      <td>194.3</td>\n",
       "    </tr>\n",
       "    <tr>\n",
       "      <th>13</th>\n",
       "      <td>2-02</td>\n",
       "      <td>149.5</td>\n",
       "    </tr>\n",
       "    <tr>\n",
       "      <th>14</th>\n",
       "      <td>2-03</td>\n",
       "      <td>210.1</td>\n",
       "    </tr>\n",
       "    <tr>\n",
       "      <th>15</th>\n",
       "      <td>2-04</td>\n",
       "      <td>273.3</td>\n",
       "    </tr>\n",
       "    <tr>\n",
       "      <th>16</th>\n",
       "      <td>2-05</td>\n",
       "      <td>191.4</td>\n",
       "    </tr>\n",
       "    <tr>\n",
       "      <th>17</th>\n",
       "      <td>2-06</td>\n",
       "      <td>287.0</td>\n",
       "    </tr>\n",
       "    <tr>\n",
       "      <th>18</th>\n",
       "      <td>2-07</td>\n",
       "      <td>226.0</td>\n",
       "    </tr>\n",
       "    <tr>\n",
       "      <th>19</th>\n",
       "      <td>2-08</td>\n",
       "      <td>303.6</td>\n",
       "    </tr>\n",
       "    <tr>\n",
       "      <th>20</th>\n",
       "      <td>2-09</td>\n",
       "      <td>289.9</td>\n",
       "    </tr>\n",
       "    <tr>\n",
       "      <th>21</th>\n",
       "      <td>2-10</td>\n",
       "      <td>421.6</td>\n",
       "    </tr>\n",
       "    <tr>\n",
       "      <th>22</th>\n",
       "      <td>2-11</td>\n",
       "      <td>264.5</td>\n",
       "    </tr>\n",
       "    <tr>\n",
       "      <th>23</th>\n",
       "      <td>2-12</td>\n",
       "      <td>342.3</td>\n",
       "    </tr>\n",
       "    <tr>\n",
       "      <th>24</th>\n",
       "      <td>3-01</td>\n",
       "      <td>339.7</td>\n",
       "    </tr>\n",
       "    <tr>\n",
       "      <th>25</th>\n",
       "      <td>3-02</td>\n",
       "      <td>440.4</td>\n",
       "    </tr>\n",
       "    <tr>\n",
       "      <th>26</th>\n",
       "      <td>3-03</td>\n",
       "      <td>315.9</td>\n",
       "    </tr>\n",
       "    <tr>\n",
       "      <th>27</th>\n",
       "      <td>3-04</td>\n",
       "      <td>439.3</td>\n",
       "    </tr>\n",
       "    <tr>\n",
       "      <th>28</th>\n",
       "      <td>3-05</td>\n",
       "      <td>401.3</td>\n",
       "    </tr>\n",
       "    <tr>\n",
       "      <th>29</th>\n",
       "      <td>3-06</td>\n",
       "      <td>437.4</td>\n",
       "    </tr>\n",
       "    <tr>\n",
       "      <th>30</th>\n",
       "      <td>3-07</td>\n",
       "      <td>575.5</td>\n",
       "    </tr>\n",
       "    <tr>\n",
       "      <th>31</th>\n",
       "      <td>3-08</td>\n",
       "      <td>407.6</td>\n",
       "    </tr>\n",
       "    <tr>\n",
       "      <th>32</th>\n",
       "      <td>3-09</td>\n",
       "      <td>682.0</td>\n",
       "    </tr>\n",
       "    <tr>\n",
       "      <th>33</th>\n",
       "      <td>3-10</td>\n",
       "      <td>475.3</td>\n",
       "    </tr>\n",
       "    <tr>\n",
       "      <th>34</th>\n",
       "      <td>3-11</td>\n",
       "      <td>581.3</td>\n",
       "    </tr>\n",
       "    <tr>\n",
       "      <th>35</th>\n",
       "      <td>3-12</td>\n",
       "      <td>646.9</td>\n",
       "    </tr>\n",
       "    <tr>\n",
       "      <th>36</th>\n",
       "      <td>Sales of shampoo over a three year period</td>\n",
       "      <td>NaN</td>\n",
       "    </tr>\n",
       "  </tbody>\n",
       "</table>\n",
       "</div>"
      ],
      "text/plain": [
       "                                        Month  \\\n",
       "0                                        1-01   \n",
       "1                                        1-02   \n",
       "2                                        1-03   \n",
       "3                                        1-04   \n",
       "4                                        1-05   \n",
       "5                                        1-06   \n",
       "6                                        1-07   \n",
       "7                                        1-08   \n",
       "8                                        1-09   \n",
       "9                                        1-10   \n",
       "10                                       1-11   \n",
       "11                                       1-12   \n",
       "12                                       2-01   \n",
       "13                                       2-02   \n",
       "14                                       2-03   \n",
       "15                                       2-04   \n",
       "16                                       2-05   \n",
       "17                                       2-06   \n",
       "18                                       2-07   \n",
       "19                                       2-08   \n",
       "20                                       2-09   \n",
       "21                                       2-10   \n",
       "22                                       2-11   \n",
       "23                                       2-12   \n",
       "24                                       3-01   \n",
       "25                                       3-02   \n",
       "26                                       3-03   \n",
       "27                                       3-04   \n",
       "28                                       3-05   \n",
       "29                                       3-06   \n",
       "30                                       3-07   \n",
       "31                                       3-08   \n",
       "32                                       3-09   \n",
       "33                                       3-10   \n",
       "34                                       3-11   \n",
       "35                                       3-12   \n",
       "36  Sales of shampoo over a three year period   \n",
       "\n",
       "    Sales of shampoo over a three year period  \n",
       "0                                       266.0  \n",
       "1                                       145.9  \n",
       "2                                       183.1  \n",
       "3                                       119.3  \n",
       "4                                       180.3  \n",
       "5                                       168.5  \n",
       "6                                       231.8  \n",
       "7                                       224.5  \n",
       "8                                       192.8  \n",
       "9                                       122.9  \n",
       "10                                      336.5  \n",
       "11                                      185.9  \n",
       "12                                      194.3  \n",
       "13                                      149.5  \n",
       "14                                      210.1  \n",
       "15                                      273.3  \n",
       "16                                      191.4  \n",
       "17                                      287.0  \n",
       "18                                      226.0  \n",
       "19                                      303.6  \n",
       "20                                      289.9  \n",
       "21                                      421.6  \n",
       "22                                      264.5  \n",
       "23                                      342.3  \n",
       "24                                      339.7  \n",
       "25                                      440.4  \n",
       "26                                      315.9  \n",
       "27                                      439.3  \n",
       "28                                      401.3  \n",
       "29                                      437.4  \n",
       "30                                      575.5  \n",
       "31                                      407.6  \n",
       "32                                      682.0  \n",
       "33                                      475.3  \n",
       "34                                      581.3  \n",
       "35                                      646.9  \n",
       "36                                        NaN  "
      ]
     },
     "execution_count": 225,
     "metadata": {},
     "output_type": "execute_result"
    }
   ],
   "source": [
    "pd.read_csv('../Data/shampoo-sales.csv', header=0, squeeze=True)"
   ]
  }
 ],
 "metadata": {
  "kernelspec": {
   "display_name": "Python 3",
   "language": "python",
   "name": "python3"
  },
  "language_info": {
   "codemirror_mode": {
    "name": "ipython",
    "version": 3
   },
   "file_extension": ".py",
   "mimetype": "text/x-python",
   "name": "python",
   "nbconvert_exporter": "python",
   "pygments_lexer": "ipython3",
   "version": "3.6.4"
  }
 },
 "nbformat": 4,
 "nbformat_minor": 2
}
