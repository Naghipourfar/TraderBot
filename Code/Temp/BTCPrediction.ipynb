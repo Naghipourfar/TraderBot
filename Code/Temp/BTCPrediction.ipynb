{
 "cells": [
  {
   "cell_type": "code",
   "execution_count": 41,
   "metadata": {},
   "outputs": [],
   "source": [
    "from matplotlib import pyplot as plt\n",
    "import numpy as np\n",
    "import json\n",
    "import requests\n",
    "import pandas as pd\n",
    "import time\n",
    "import keras\n",
    "from keras.layers import Dropout, Dense, Activation, LSTM, Input, Embedding\n",
    "from keras.models import Sequential\n",
    "from sklearn.model_selection import train_test_split\n",
    "from sklearn.preprocessing import normalize\n",
    "\n",
    "from datetime import datetime  \n",
    "from datetime import timedelta  "
   ]
  },
  {
   "cell_type": "code",
   "execution_count": 56,
   "metadata": {},
   "outputs": [],
   "source": [
    "def line_plot(line1, line2, label1=None, label2=None, title=''):\n",
    "    fig, ax = plt.subplots(1, figsize=(25, 15))\n",
    "    ax.plot(line1, label=label1, linewidth=2)\n",
    "    ax.plot(line2, label=label2, linewidth=2)\n",
    "    \n",
    "    for i, j in zip(line1, line2):\n",
    "        ax.plot([], [],)\n",
    "    \n",
    "    ax.set_ylabel('price [USD]', fontsize=14)\n",
    "    ax.set_title(title, fontsize=18)\n",
    "    ax.legend(loc='best', fontsize=18)\n",
    "    plt.show()\n",
    "    \n",
    "def create_model(input_shape, output_neurons=1):\n",
    "    model = Sequential()\n",
    "    model.add(LSTM(20, input_shape=(input_shape[1], input_shape[2])))\n",
    "    model.add(Dropout(0.5))\n",
    "    model.add(Dense(output_neurons, activation=keras.activations.linear))\n",
    "\n",
    "    model.compile(loss=keras.losses.mse, optimizer='nadam')\n",
    "\n",
    "    return model\n",
    "\n",
    "\n",
    "def normalize_data(data):\n",
    "    return normalize(data, norm='l2', axis=1, copy=True)\n",
    "\n",
    "def download_data():\n",
    "    endpoint = 'https://min-api.cryptocompare.com/data/histoday'\n",
    "    res = requests.get(endpoint + '?fsym='+coin+'&tsym=USD&limit=2000')\n",
    "    hist = pd.DataFrame(json.loads(res.content)['Data'])\n",
    "    hist = hist.set_index('time')\n",
    "    hist.index = pd.to_datetime(hist.index, unit='s')\n",
    "    hist.head()\n",
    "    return hist"
   ]
  },
  {
   "cell_type": "code",
   "execution_count": 65,
   "metadata": {},
   "outputs": [
    {
     "name": "stdout",
     "output_type": "stream",
     "text": [
      "83197945.19402985\n"
     ]
    }
   ],
   "source": [
    "coin = 'BTC'\n",
    "data = download_data()\n",
    "y_data = data['close']\n",
    "x_data = data.drop(['close'], axis=1)\n",
    "\n",
    "x_train, x_test, y_train, y_test = train_test_split(x_data, y_data, test_size=0.1, shuffle=False)\n",
    "\n",
    "x_train = np.reshape(x_train.as_matrix(), (x_train.shape[0], 1, x_train.shape[1]))\n",
    "x_test = np.reshape(x_test.as_matrix(), (x_test.shape[0], 1, x_test.shape[1]))\n",
    "model = create_model(x_train.shape, output_neurons=1)\n",
    "\n",
    "history = model.fit(x=x_train,\n",
    "          y=y_train,\n",
    "          epochs=100,\n",
    "          batch_size=128,\n",
    "          validation_data=(x_test, y_test),\n",
    "          verbose=0)\n",
    "print(history.history['val_loss'][-1])\n",
    "\n",
    "\n"
   ]
  },
  {
   "cell_type": "code",
   "execution_count": 16,
   "metadata": {},
   "outputs": [
    {
     "data": {
      "text/plain": [
       "(2001, 6)"
      ]
     },
     "execution_count": 16,
     "metadata": {},
     "output_type": "execute_result"
    }
   ],
   "source": []
  }
 ],
 "metadata": {
  "kernelspec": {
   "display_name": "Python 3",
   "language": "python",
   "name": "python3"
  },
  "language_info": {
   "codemirror_mode": {
    "name": "ipython",
    "version": 3
   },
   "file_extension": ".py",
   "mimetype": "text/x-python",
   "name": "python",
   "nbconvert_exporter": "python",
   "pygments_lexer": "ipython3",
   "version": "3.6.4"
  }
 },
 "nbformat": 4,
 "nbformat_minor": 2
}
